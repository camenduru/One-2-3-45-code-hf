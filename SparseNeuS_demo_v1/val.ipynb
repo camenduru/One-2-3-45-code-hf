{
 "cells": [
  {
   "cell_type": "code",
   "execution_count": 3,
   "metadata": {},
   "outputs": [
    {
     "name": "stdout",
     "output_type": "stream",
     "text": [
      "CUDA_VISIBLE_DEVICES=3 python exp_runner_generic_blender_val.py --specific_dataset_name gradio_tmp --mode export_mesh --conf confs/one2345_lod0_val_demo.conf  --is_continue\n",
      "\u001b[31mdetected 1 GPUs\u001b[0m\n",
      "\u001b[33mbase_exp_dir:  exp/lod0\u001b[0m\n",
      "\u001b[34mStore in: ../gradio_tmp\u001b[0m\n"
     ]
    },
    {
     "name": "stderr",
     "output_type": "stream",
     "text": [
      "/home/chao/anaconda3/envs/gradio/lib/python3.10/site-packages/torch/functional.py:504: UserWarning: torch.meshgrid: in an upcoming release, it will be required to pass the indexing argument. (Triggered internally at ../aten/src/ATen/native/TensorShape.cpp:3483.)\n",
      "  return _VF.meshgrid(tensors, **kwargs)  # type: ignore[attr-defined]\n",
      "[exp_runner_generic_blender_val.py:159 -             __init__() ] Find checkpoint: ckpt_285000.pth\n",
      "[exp_runner_generic_blender_val.py:500 -      load_checkpoint() ] End\n",
      "ic| self.iter_step: 285000, idx: -1\n",
      "[exp_runner_generic_blender_val.py:579 -          export_mesh() ] Validate begin\n"
     ]
    },
    {
     "name": "stdout",
     "output_type": "stream",
     "text": [
      "time for getting data 0.0004603862762451172\n",
      "export mesh time:  5.274312734603882\n"
     ]
    },
    {
     "data": {
      "text/plain": [
       "0"
      ]
     },
     "execution_count": 3,
     "metadata": {},
     "output_type": "execute_result"
    }
   ],
   "source": [
    "import os \n",
    "\n",
    "dataset = 'gradio_tmp' # !!! the subfolder name in valpath for which you want to eval\n",
    "# os.system('pwd')\n",
    "\n",
    "bash_script = f'CUDA_VISIBLE_DEVICES=3 python exp_runner_generic_blender_val.py --specific_dataset_name {dataset} --mode export_mesh --conf confs/one2345_lod0_val_demo.conf  --is_continue'\n",
    "print(bash_script)\n",
    "os.system(bash_script)"
   ]
  },
  {
   "cell_type": "code",
   "execution_count": 3,
   "metadata": {},
   "outputs": [
    {
     "name": "stdout",
     "output_type": "stream",
     "text": [
      "CUDA_VISIBLE_DEVICES=3 python exp_runner_generic_blender_val.py --specific_dataset_name eval_test/ebicycle2 --mode export_mesh --conf confs/one2345_lod0_val_demo.conf  --is_continue\n",
      "\u001b[31mdetected 1 GPUs\u001b[0m\n",
      "\u001b[33mbase_exp_dir:  exp/lod0\u001b[0m\n",
      "save mesh to: ../eval_test/ebicycle2\n",
      "\u001b[34mStore in: ../eval_test/ebicycle2\u001b[0m\n"
     ]
    },
    {
     "name": "stderr",
     "output_type": "stream",
     "text": [
      "/home/chao/anaconda3/envs/gradio/lib/python3.10/site-packages/torch/functional.py:504: UserWarning: torch.meshgrid: in an upcoming release, it will be required to pass the indexing argument. (Triggered internally at ../aten/src/ATen/native/TensorShape.cpp:3483.)\n",
      "  return _VF.meshgrid(tensors, **kwargs)  # type: ignore[attr-defined]\n",
      "[exp_runner_generic_blender_val.py:160 -             __init__() ] Find checkpoint: ckpt_180000.pth\n",
      "[exp_runner_generic_blender_val.py:501 -      load_checkpoint() ] End\n",
      "ic| self.iter_step: 180000, idx: -1\n",
      "[exp_runner_generic_blender_val.py:580 -          export_mesh() ] Validate begin\n"
     ]
    },
    {
     "name": "stdout",
     "output_type": "stream",
     "text": [
      "time for getting data 0.0004477500915527344\n",
      "export mesh time:  5.30308723449707\n"
     ]
    },
    {
     "data": {
      "text/plain": [
       "0"
      ]
     },
     "execution_count": 3,
     "metadata": {},
     "output_type": "execute_result"
    }
   ],
   "source": [
    "import os \n",
    "\n",
    "dataset = 'eval_test/ebicycle2' # !!! the subfolder name in valpath for which you want to eval\n",
    "# os.system('pwd')\n",
    "\n",
    "bash_script = f'CUDA_VISIBLE_DEVICES=3 python exp_runner_generic_blender_val.py --specific_dataset_name {dataset} --mode export_mesh --conf confs/one2345_lod0_val_demo.conf  --is_continue'\n",
    "print(bash_script)\n",
    "os.system(bash_script)"
   ]
  },
  {
   "cell_type": "code",
   "execution_count": 9,
   "metadata": {},
   "outputs": [
    {
     "name": "stderr",
     "output_type": "stream",
     "text": [
      "  0%|          | 0/20 [00:00<?, ?it/s]"
     ]
    },
    {
     "name": "stdout",
     "output_type": "stream",
     "text": [
      "CUDA_VISIBLE_DEVICES=3 python exp_runner_generic_blender_val.py --specific_dataset_name mesh_pred/eval_real/bigmac --mode export_mesh --conf confs/one2345_lod0_val_demo.conf  --is_continue\n",
      "\u001b[31mdetected 1 GPUs\u001b[0m\n",
      "\u001b[33mbase_exp_dir:  exp/lod0\u001b[0m\n",
      "save mesh to: ../mesh_pred/eval_real/bigmac\n",
      "\u001b[34mStore in: ../mesh_pred/eval_real/bigmac\u001b[0m\n"
     ]
    },
    {
     "name": "stderr",
     "output_type": "stream",
     "text": [
      "/home/chao/anaconda3/envs/gradio/lib/python3.10/site-packages/torch/functional.py:504: UserWarning: torch.meshgrid: in an upcoming release, it will be required to pass the indexing argument. (Triggered internally at ../aten/src/ATen/native/TensorShape.cpp:3483.)\n",
      "  return _VF.meshgrid(tensors, **kwargs)  # type: ignore[attr-defined]\n",
      "[exp_runner_generic_blender_val.py:160 -             __init__() ] Find checkpoint: ckpt_190000.pth\n",
      "[exp_runner_generic_blender_val.py:501 -      load_checkpoint() ] End\n",
      "ic| self.iter_step: 190000, idx: -1\n",
      "[exp_runner_generic_blender_val.py:580 -          export_mesh() ] Validate begin\n"
     ]
    },
    {
     "name": "stdout",
     "output_type": "stream",
     "text": [
      "time for getting data 0.00046324729919433594\n",
      "export mesh time:  5.254480361938477\n"
     ]
    },
    {
     "name": "stderr",
     "output_type": "stream",
     "text": [
      "  5%|▌         | 1/20 [00:09<03:05,  9.78s/it]"
     ]
    },
    {
     "name": "stdout",
     "output_type": "stream",
     "text": [
      "CUDA_VISIBLE_DEVICES=3 python exp_runner_generic_blender_val.py --specific_dataset_name mesh_pred/eval_real/dinosaur --mode export_mesh --conf confs/one2345_lod0_val_demo.conf  --is_continue\n",
      "\u001b[31mdetected 1 GPUs\u001b[0m\n",
      "\u001b[33mbase_exp_dir:  exp/lod0\u001b[0m\n",
      "save mesh to: ../mesh_pred/eval_real/dinosaur\n",
      "\u001b[34mStore in: ../mesh_pred/eval_real/dinosaur\u001b[0m\n"
     ]
    },
    {
     "name": "stderr",
     "output_type": "stream",
     "text": [
      "/home/chao/anaconda3/envs/gradio/lib/python3.10/site-packages/torch/functional.py:504: UserWarning: torch.meshgrid: in an upcoming release, it will be required to pass the indexing argument. (Triggered internally at ../aten/src/ATen/native/TensorShape.cpp:3483.)\n",
      "  return _VF.meshgrid(tensors, **kwargs)  # type: ignore[attr-defined]\n",
      "[exp_runner_generic_blender_val.py:160 -             __init__() ] Find checkpoint: ckpt_190000.pth\n",
      "[exp_runner_generic_blender_val.py:501 -      load_checkpoint() ] End\n",
      "ic| self.iter_step: 190000, idx: -1\n",
      "[exp_runner_generic_blender_val.py:580 -          export_mesh() ] Validate begin\n"
     ]
    },
    {
     "name": "stdout",
     "output_type": "stream",
     "text": [
      "time for getting data 0.0004961490631103516\n",
      "export mesh time:  5.2382142543792725\n"
     ]
    },
    {
     "name": "stderr",
     "output_type": "stream",
     "text": [
      " 10%|█         | 2/20 [00:19<02:56,  9.79s/it]"
     ]
    },
    {
     "name": "stdout",
     "output_type": "stream",
     "text": [
      "CUDA_VISIBLE_DEVICES=3 python exp_runner_generic_blender_val.py --specific_dataset_name mesh_pred/eval_real/goose_chef --mode export_mesh --conf confs/one2345_lod0_val_demo.conf  --is_continue\n",
      "\u001b[31mdetected 1 GPUs\u001b[0m\n",
      "\u001b[33mbase_exp_dir:  exp/lod0\u001b[0m\n",
      "save mesh to: ../mesh_pred/eval_real/goose_chef\n",
      "\u001b[34mStore in: ../mesh_pred/eval_real/goose_chef\u001b[0m\n"
     ]
    },
    {
     "name": "stderr",
     "output_type": "stream",
     "text": [
      "/home/chao/anaconda3/envs/gradio/lib/python3.10/site-packages/torch/functional.py:504: UserWarning: torch.meshgrid: in an upcoming release, it will be required to pass the indexing argument. (Triggered internally at ../aten/src/ATen/native/TensorShape.cpp:3483.)\n",
      "  return _VF.meshgrid(tensors, **kwargs)  # type: ignore[attr-defined]\n",
      "[exp_runner_generic_blender_val.py:160 -             __init__() ] Find checkpoint: ckpt_190000.pth\n",
      "[exp_runner_generic_blender_val.py:501 -      load_checkpoint() ] End\n",
      "ic| self.iter_step: 190000, idx: -1\n",
      "[exp_runner_generic_blender_val.py:580 -          export_mesh() ] Validate begin\n"
     ]
    },
    {
     "name": "stdout",
     "output_type": "stream",
     "text": [
      "time for getting data 0.0004622936248779297\n",
      "export mesh time:  5.243659257888794\n"
     ]
    },
    {
     "name": "stderr",
     "output_type": "stream",
     "text": [
      " 15%|█▌        | 3/20 [00:29<02:46,  9.79s/it]"
     ]
    },
    {
     "name": "stdout",
     "output_type": "stream",
     "text": [
      "CUDA_VISIBLE_DEVICES=3 python exp_runner_generic_blender_val.py --specific_dataset_name mesh_pred/eval_real/stool2 --mode export_mesh --conf confs/one2345_lod0_val_demo.conf  --is_continue\n",
      "\u001b[31mdetected 1 GPUs\u001b[0m\n",
      "\u001b[33mbase_exp_dir:  exp/lod0\u001b[0m\n",
      "save mesh to: ../mesh_pred/eval_real/stool2\n",
      "\u001b[34mStore in: ../mesh_pred/eval_real/stool2\u001b[0m\n"
     ]
    },
    {
     "name": "stderr",
     "output_type": "stream",
     "text": [
      "/home/chao/anaconda3/envs/gradio/lib/python3.10/site-packages/torch/functional.py:504: UserWarning: torch.meshgrid: in an upcoming release, it will be required to pass the indexing argument. (Triggered internally at ../aten/src/ATen/native/TensorShape.cpp:3483.)\n",
      "  return _VF.meshgrid(tensors, **kwargs)  # type: ignore[attr-defined]\n",
      "[exp_runner_generic_blender_val.py:160 -             __init__() ] Find checkpoint: ckpt_190000.pth\n",
      "[exp_runner_generic_blender_val.py:501 -      load_checkpoint() ] End\n",
      "ic| self.iter_step: 190000, idx: -1\n",
      "[exp_runner_generic_blender_val.py:580 -          export_mesh() ] Validate begin\n"
     ]
    },
    {
     "name": "stdout",
     "output_type": "stream",
     "text": [
      "time for getting data 0.0004367828369140625\n",
      "export mesh time:  5.210400342941284\n"
     ]
    },
    {
     "name": "stderr",
     "output_type": "stream",
     "text": [
      " 20%|██        | 4/20 [00:39<02:36,  9.78s/it]"
     ]
    },
    {
     "name": "stdout",
     "output_type": "stream",
     "text": [
      "CUDA_VISIBLE_DEVICES=3 python exp_runner_generic_blender_val.py --specific_dataset_name mesh_pred/eval_real/nuts --mode export_mesh --conf confs/one2345_lod0_val_demo.conf  --is_continue\n",
      "\u001b[31mdetected 1 GPUs\u001b[0m\n",
      "\u001b[33mbase_exp_dir:  exp/lod0\u001b[0m\n",
      "save mesh to: ../mesh_pred/eval_real/nuts\n",
      "\u001b[34mStore in: ../mesh_pred/eval_real/nuts\u001b[0m\n"
     ]
    },
    {
     "name": "stderr",
     "output_type": "stream",
     "text": [
      "/home/chao/anaconda3/envs/gradio/lib/python3.10/site-packages/torch/functional.py:504: UserWarning: torch.meshgrid: in an upcoming release, it will be required to pass the indexing argument. (Triggered internally at ../aten/src/ATen/native/TensorShape.cpp:3483.)\n",
      "  return _VF.meshgrid(tensors, **kwargs)  # type: ignore[attr-defined]\n",
      "[exp_runner_generic_blender_val.py:160 -             __init__() ] Find checkpoint: ckpt_190000.pth\n",
      "[exp_runner_generic_blender_val.py:501 -      load_checkpoint() ] End\n",
      "ic| self.iter_step: 190000, idx: -1\n",
      "[exp_runner_generic_blender_val.py:580 -          export_mesh() ] Validate begin\n"
     ]
    },
    {
     "name": "stdout",
     "output_type": "stream",
     "text": [
      "time for getting data 0.00047707557678222656\n",
      "export mesh time:  5.257585763931274\n"
     ]
    },
    {
     "name": "stderr",
     "output_type": "stream",
     "text": [
      " 25%|██▌       | 5/20 [00:48<02:27,  9.80s/it]"
     ]
    },
    {
     "name": "stdout",
     "output_type": "stream",
     "text": [
      "CUDA_VISIBLE_DEVICES=3 python exp_runner_generic_blender_val.py --specific_dataset_name mesh_pred/eval_real/yellow_duck --mode export_mesh --conf confs/one2345_lod0_val_demo.conf  --is_continue\n",
      "\u001b[31mdetected 1 GPUs\u001b[0m\n",
      "\u001b[33mbase_exp_dir:  exp/lod0\u001b[0m\n",
      "save mesh to: ../mesh_pred/eval_real/yellow_duck\n",
      "\u001b[34mStore in: ../mesh_pred/eval_real/yellow_duck\u001b[0m\n"
     ]
    },
    {
     "name": "stderr",
     "output_type": "stream",
     "text": [
      "/home/chao/anaconda3/envs/gradio/lib/python3.10/site-packages/torch/functional.py:504: UserWarning: torch.meshgrid: in an upcoming release, it will be required to pass the indexing argument. (Triggered internally at ../aten/src/ATen/native/TensorShape.cpp:3483.)\n",
      "  return _VF.meshgrid(tensors, **kwargs)  # type: ignore[attr-defined]\n",
      "[exp_runner_generic_blender_val.py:160 -             __init__() ] Find checkpoint: ckpt_190000.pth\n",
      "[exp_runner_generic_blender_val.py:501 -      load_checkpoint() ] End\n",
      "ic| self.iter_step: 190000, idx: -1\n",
      "[exp_runner_generic_blender_val.py:580 -          export_mesh() ] Validate begin\n"
     ]
    },
    {
     "name": "stdout",
     "output_type": "stream",
     "text": [
      "time for getting data 0.0004456043243408203\n",
      "export mesh time:  5.2359161376953125\n"
     ]
    },
    {
     "name": "stderr",
     "output_type": "stream",
     "text": [
      " 30%|███       | 6/20 [00:58<02:17,  9.80s/it]"
     ]
    },
    {
     "name": "stdout",
     "output_type": "stream",
     "text": [
      "CUDA_VISIBLE_DEVICES=3 python exp_runner_generic_blender_val.py --specific_dataset_name mesh_pred/eval_real/pineapple_bottle --mode export_mesh --conf confs/one2345_lod0_val_demo.conf  --is_continue\n",
      "\u001b[31mdetected 1 GPUs\u001b[0m\n",
      "\u001b[33mbase_exp_dir:  exp/lod0\u001b[0m\n",
      "save mesh to: ../mesh_pred/eval_real/pineapple_bottle\n",
      "\u001b[34mStore in: ../mesh_pred/eval_real/pineapple_bottle\u001b[0m\n"
     ]
    },
    {
     "name": "stderr",
     "output_type": "stream",
     "text": [
      "/home/chao/anaconda3/envs/gradio/lib/python3.10/site-packages/torch/functional.py:504: UserWarning: torch.meshgrid: in an upcoming release, it will be required to pass the indexing argument. (Triggered internally at ../aten/src/ATen/native/TensorShape.cpp:3483.)\n",
      "  return _VF.meshgrid(tensors, **kwargs)  # type: ignore[attr-defined]\n",
      "[exp_runner_generic_blender_val.py:160 -             __init__() ] Find checkpoint: ckpt_190000.pth\n",
      "[exp_runner_generic_blender_val.py:501 -      load_checkpoint() ] End\n",
      "ic| self.iter_step: 190000, idx: -1\n",
      "[exp_runner_generic_blender_val.py:580 -          export_mesh() ] Validate begin\n"
     ]
    },
    {
     "name": "stdout",
     "output_type": "stream",
     "text": [
      "time for getting data 0.0004482269287109375\n",
      "export mesh time:  5.260643243789673\n"
     ]
    },
    {
     "name": "stderr",
     "output_type": "stream",
     "text": [
      " 35%|███▌      | 7/20 [01:08<02:07,  9.82s/it]"
     ]
    },
    {
     "name": "stdout",
     "output_type": "stream",
     "text": [
      "CUDA_VISIBLE_DEVICES=3 python exp_runner_generic_blender_val.py --specific_dataset_name mesh_pred/eval_real/pancake --mode export_mesh --conf confs/one2345_lod0_val_demo.conf  --is_continue\n",
      "\u001b[31mdetected 1 GPUs\u001b[0m\n",
      "\u001b[33mbase_exp_dir:  exp/lod0\u001b[0m\n",
      "save mesh to: ../mesh_pred/eval_real/pancake\n",
      "\u001b[34mStore in: ../mesh_pred/eval_real/pancake\u001b[0m\n"
     ]
    },
    {
     "name": "stderr",
     "output_type": "stream",
     "text": [
      "/home/chao/anaconda3/envs/gradio/lib/python3.10/site-packages/torch/functional.py:504: UserWarning: torch.meshgrid: in an upcoming release, it will be required to pass the indexing argument. (Triggered internally at ../aten/src/ATen/native/TensorShape.cpp:3483.)\n",
      "  return _VF.meshgrid(tensors, **kwargs)  # type: ignore[attr-defined]\n",
      "[exp_runner_generic_blender_val.py:160 -             __init__() ] Find checkpoint: ckpt_190000.pth\n",
      "[exp_runner_generic_blender_val.py:501 -      load_checkpoint() ] End\n",
      "ic| self.iter_step: 190000, idx: -1\n",
      "[exp_runner_generic_blender_val.py:580 -          export_mesh() ] Validate begin\n"
     ]
    },
    {
     "name": "stdout",
     "output_type": "stream",
     "text": [
      "time for getting data 0.00047278404235839844\n",
      "export mesh time:  5.221261739730835\n"
     ]
    },
    {
     "name": "stderr",
     "output_type": "stream",
     "text": [
      " 40%|████      | 8/20 [01:18<01:57,  9.83s/it]"
     ]
    },
    {
     "name": "stdout",
     "output_type": "stream",
     "text": [
      "CUDA_VISIBLE_DEVICES=3 python exp_runner_generic_blender_val.py --specific_dataset_name mesh_pred/eval_real/hydrant --mode export_mesh --conf confs/one2345_lod0_val_demo.conf  --is_continue\n",
      "\u001b[31mdetected 1 GPUs\u001b[0m\n",
      "\u001b[33mbase_exp_dir:  exp/lod0\u001b[0m\n",
      "save mesh to: ../mesh_pred/eval_real/hydrant\n",
      "\u001b[34mStore in: ../mesh_pred/eval_real/hydrant\u001b[0m\n"
     ]
    },
    {
     "name": "stderr",
     "output_type": "stream",
     "text": [
      "/home/chao/anaconda3/envs/gradio/lib/python3.10/site-packages/torch/functional.py:504: UserWarning: torch.meshgrid: in an upcoming release, it will be required to pass the indexing argument. (Triggered internally at ../aten/src/ATen/native/TensorShape.cpp:3483.)\n",
      "  return _VF.meshgrid(tensors, **kwargs)  # type: ignore[attr-defined]\n",
      "[exp_runner_generic_blender_val.py:160 -             __init__() ] Find checkpoint: ckpt_190000.pth\n",
      "[exp_runner_generic_blender_val.py:501 -      load_checkpoint() ] End\n",
      "ic| self.iter_step: 190000, idx: -1\n",
      "[exp_runner_generic_blender_val.py:580 -          export_mesh() ] Validate begin\n"
     ]
    },
    {
     "name": "stdout",
     "output_type": "stream",
     "text": [
      "time for getting data 0.00044608116149902344\n",
      "export mesh time:  5.220775604248047\n"
     ]
    },
    {
     "name": "stderr",
     "output_type": "stream",
     "text": [
      " 45%|████▌     | 9/20 [01:28<01:47,  9.80s/it]"
     ]
    },
    {
     "name": "stdout",
     "output_type": "stream",
     "text": [
      "CUDA_VISIBLE_DEVICES=3 python exp_runner_generic_blender_val.py --specific_dataset_name mesh_pred/eval_real/oreo_drink --mode export_mesh --conf confs/one2345_lod0_val_demo.conf  --is_continue\n",
      "\u001b[31mdetected 1 GPUs\u001b[0m\n",
      "\u001b[33mbase_exp_dir:  exp/lod0\u001b[0m\n",
      "save mesh to: ../mesh_pred/eval_real/oreo_drink\n",
      "\u001b[34mStore in: ../mesh_pred/eval_real/oreo_drink\u001b[0m\n"
     ]
    },
    {
     "name": "stderr",
     "output_type": "stream",
     "text": [
      "/home/chao/anaconda3/envs/gradio/lib/python3.10/site-packages/torch/functional.py:504: UserWarning: torch.meshgrid: in an upcoming release, it will be required to pass the indexing argument. (Triggered internally at ../aten/src/ATen/native/TensorShape.cpp:3483.)\n",
      "  return _VF.meshgrid(tensors, **kwargs)  # type: ignore[attr-defined]\n",
      "[exp_runner_generic_blender_val.py:160 -             __init__() ] Find checkpoint: ckpt_190000.pth\n",
      "[exp_runner_generic_blender_val.py:501 -      load_checkpoint() ] End\n",
      "ic| self.iter_step: 190000, idx: -1\n",
      "[exp_runner_generic_blender_val.py:580 -          export_mesh() ] Validate begin\n"
     ]
    },
    {
     "name": "stdout",
     "output_type": "stream",
     "text": [
      "time for getting data 0.00043773651123046875\n",
      "export mesh time:  5.22020149230957\n"
     ]
    },
    {
     "name": "stderr",
     "output_type": "stream",
     "text": [
      " 50%|█████     | 10/20 [01:37<01:37,  9.79s/it]"
     ]
    },
    {
     "name": "stdout",
     "output_type": "stream",
     "text": [
      "CUDA_VISIBLE_DEVICES=3 python exp_runner_generic_blender_val.py --specific_dataset_name mesh_pred/eval_real/scissor --mode export_mesh --conf confs/one2345_lod0_val_demo.conf  --is_continue\n",
      "\u001b[31mdetected 1 GPUs\u001b[0m\n",
      "\u001b[33mbase_exp_dir:  exp/lod0\u001b[0m\n",
      "save mesh to: ../mesh_pred/eval_real/scissor\n",
      "\u001b[34mStore in: ../mesh_pred/eval_real/scissor\u001b[0m\n"
     ]
    },
    {
     "name": "stderr",
     "output_type": "stream",
     "text": [
      "/home/chao/anaconda3/envs/gradio/lib/python3.10/site-packages/torch/functional.py:504: UserWarning: torch.meshgrid: in an upcoming release, it will be required to pass the indexing argument. (Triggered internally at ../aten/src/ATen/native/TensorShape.cpp:3483.)\n",
      "  return _VF.meshgrid(tensors, **kwargs)  # type: ignore[attr-defined]\n",
      "[exp_runner_generic_blender_val.py:160 -             __init__() ] Find checkpoint: ckpt_190000.pth\n",
      "[exp_runner_generic_blender_val.py:501 -      load_checkpoint() ] End\n",
      "ic| self.iter_step: 190000, idx: -1\n",
      "[exp_runner_generic_blender_val.py:580 -          export_mesh() ] Validate begin\n"
     ]
    },
    {
     "name": "stdout",
     "output_type": "stream",
     "text": [
      "time for getting data 0.0004305839538574219\n",
      "export mesh time:  5.205048322677612\n"
     ]
    },
    {
     "name": "stderr",
     "output_type": "stream",
     "text": [
      " 55%|█████▌    | 11/20 [01:47<01:28,  9.78s/it]"
     ]
    },
    {
     "name": "stdout",
     "output_type": "stream",
     "text": [
      "CUDA_VISIBLE_DEVICES=3 python exp_runner_generic_blender_val.py --specific_dataset_name mesh_pred/eval_real/chocolatecake --mode export_mesh --conf confs/one2345_lod0_val_demo.conf  --is_continue\n",
      "\u001b[31mdetected 1 GPUs\u001b[0m\n",
      "\u001b[33mbase_exp_dir:  exp/lod0\u001b[0m\n",
      "save mesh to: ../mesh_pred/eval_real/chocolatecake\n",
      "\u001b[34mStore in: ../mesh_pred/eval_real/chocolatecake\u001b[0m\n"
     ]
    },
    {
     "name": "stderr",
     "output_type": "stream",
     "text": [
      "/home/chao/anaconda3/envs/gradio/lib/python3.10/site-packages/torch/functional.py:504: UserWarning: torch.meshgrid: in an upcoming release, it will be required to pass the indexing argument. (Triggered internally at ../aten/src/ATen/native/TensorShape.cpp:3483.)\n",
      "  return _VF.meshgrid(tensors, **kwargs)  # type: ignore[attr-defined]\n",
      "[exp_runner_generic_blender_val.py:160 -             __init__() ] Find checkpoint: ckpt_190000.pth\n",
      "[exp_runner_generic_blender_val.py:501 -      load_checkpoint() ] End\n",
      "ic| self.iter_step: 190000, idx: -1\n",
      "[exp_runner_generic_blender_val.py:580 -          export_mesh() ] Validate begin\n"
     ]
    },
    {
     "name": "stdout",
     "output_type": "stream",
     "text": [
      "time for getting data 0.00043392181396484375\n",
      "export mesh time:  5.239720344543457\n"
     ]
    },
    {
     "name": "stderr",
     "output_type": "stream",
     "text": [
      " 60%|██████    | 12/20 [01:57<01:18,  9.79s/it]"
     ]
    },
    {
     "name": "stdout",
     "output_type": "stream",
     "text": [
      "CUDA_VISIBLE_DEVICES=3 python exp_runner_generic_blender_val.py --specific_dataset_name mesh_pred/eval_real/mario --mode export_mesh --conf confs/one2345_lod0_val_demo.conf  --is_continue\n",
      "\u001b[31mdetected 1 GPUs\u001b[0m\n",
      "\u001b[33mbase_exp_dir:  exp/lod0\u001b[0m\n",
      "save mesh to: ../mesh_pred/eval_real/mario\n",
      "\u001b[34mStore in: ../mesh_pred/eval_real/mario\u001b[0m\n"
     ]
    },
    {
     "name": "stderr",
     "output_type": "stream",
     "text": [
      "/home/chao/anaconda3/envs/gradio/lib/python3.10/site-packages/torch/functional.py:504: UserWarning: torch.meshgrid: in an upcoming release, it will be required to pass the indexing argument. (Triggered internally at ../aten/src/ATen/native/TensorShape.cpp:3483.)\n",
      "  return _VF.meshgrid(tensors, **kwargs)  # type: ignore[attr-defined]\n",
      "[exp_runner_generic_blender_val.py:160 -             __init__() ] Find checkpoint: ckpt_190000.pth\n",
      "[exp_runner_generic_blender_val.py:501 -      load_checkpoint() ] End\n",
      "ic| self.iter_step: 190000, idx: -1\n",
      "[exp_runner_generic_blender_val.py:580 -          export_mesh() ] Validate begin\n"
     ]
    },
    {
     "name": "stdout",
     "output_type": "stream",
     "text": [
      "time for getting data 0.0004582405090332031\n",
      "export mesh time:  5.255834102630615\n"
     ]
    },
    {
     "name": "stderr",
     "output_type": "stream",
     "text": [
      " 65%|██████▌   | 13/20 [02:07<01:08,  9.79s/it]"
     ]
    },
    {
     "name": "stdout",
     "output_type": "stream",
     "text": [
      "CUDA_VISIBLE_DEVICES=3 python exp_runner_generic_blender_val.py --specific_dataset_name mesh_pred/eval_real/broccoli --mode export_mesh --conf confs/one2345_lod0_val_demo.conf  --is_continue\n",
      "\u001b[31mdetected 1 GPUs\u001b[0m\n",
      "\u001b[33mbase_exp_dir:  exp/lod0\u001b[0m\n",
      "save mesh to: ../mesh_pred/eval_real/broccoli\n",
      "\u001b[34mStore in: ../mesh_pred/eval_real/broccoli\u001b[0m\n"
     ]
    },
    {
     "name": "stderr",
     "output_type": "stream",
     "text": [
      "/home/chao/anaconda3/envs/gradio/lib/python3.10/site-packages/torch/functional.py:504: UserWarning: torch.meshgrid: in an upcoming release, it will be required to pass the indexing argument. (Triggered internally at ../aten/src/ATen/native/TensorShape.cpp:3483.)\n",
      "  return _VF.meshgrid(tensors, **kwargs)  # type: ignore[attr-defined]\n",
      "[exp_runner_generic_blender_val.py:160 -             __init__() ] Find checkpoint: ckpt_190000.pth\n",
      "[exp_runner_generic_blender_val.py:501 -      load_checkpoint() ] End\n",
      "ic| self.iter_step: 190000, idx: -1\n",
      "[exp_runner_generic_blender_val.py:580 -          export_mesh() ] Validate begin\n"
     ]
    },
    {
     "name": "stdout",
     "output_type": "stream",
     "text": [
      "time for getting data 0.0005385875701904297\n",
      "export mesh time:  5.311108112335205\n"
     ]
    },
    {
     "name": "stderr",
     "output_type": "stream",
     "text": [
      " 70%|███████   | 14/20 [02:17<00:58,  9.83s/it]"
     ]
    },
    {
     "name": "stdout",
     "output_type": "stream",
     "text": [
      "CUDA_VISIBLE_DEVICES=3 python exp_runner_generic_blender_val.py --specific_dataset_name mesh_pred/eval_real/chair3 --mode export_mesh --conf confs/one2345_lod0_val_demo.conf  --is_continue\n",
      "\u001b[31mdetected 1 GPUs\u001b[0m\n",
      "\u001b[33mbase_exp_dir:  exp/lod0\u001b[0m\n",
      "save mesh to: ../mesh_pred/eval_real/chair3\n",
      "\u001b[34mStore in: ../mesh_pred/eval_real/chair3\u001b[0m\n"
     ]
    },
    {
     "name": "stderr",
     "output_type": "stream",
     "text": [
      "/home/chao/anaconda3/envs/gradio/lib/python3.10/site-packages/torch/functional.py:504: UserWarning: torch.meshgrid: in an upcoming release, it will be required to pass the indexing argument. (Triggered internally at ../aten/src/ATen/native/TensorShape.cpp:3483.)\n",
      "  return _VF.meshgrid(tensors, **kwargs)  # type: ignore[attr-defined]\n",
      "[exp_runner_generic_blender_val.py:160 -             __init__() ] Find checkpoint: ckpt_190000.pth\n",
      "[exp_runner_generic_blender_val.py:501 -      load_checkpoint() ] End\n",
      "ic| self.iter_step: 190000, idx: -1\n",
      "[exp_runner_generic_blender_val.py:580 -          export_mesh() ] Validate begin\n"
     ]
    },
    {
     "name": "stdout",
     "output_type": "stream",
     "text": [
      "time for getting data 0.0004534721374511719\n",
      "export mesh time:  5.227793216705322\n"
     ]
    },
    {
     "name": "stderr",
     "output_type": "stream",
     "text": [
      " 75%|███████▌  | 15/20 [02:27<00:49,  9.82s/it]"
     ]
    },
    {
     "name": "stdout",
     "output_type": "stream",
     "text": [
      "CUDA_VISIBLE_DEVICES=3 python exp_runner_generic_blender_val.py --specific_dataset_name mesh_pred/eval_real/lysol --mode export_mesh --conf confs/one2345_lod0_val_demo.conf  --is_continue\n",
      "\u001b[31mdetected 1 GPUs\u001b[0m\n",
      "\u001b[33mbase_exp_dir:  exp/lod0\u001b[0m\n",
      "save mesh to: ../mesh_pred/eval_real/lysol\n",
      "\u001b[34mStore in: ../mesh_pred/eval_real/lysol\u001b[0m\n"
     ]
    },
    {
     "name": "stderr",
     "output_type": "stream",
     "text": [
      "/home/chao/anaconda3/envs/gradio/lib/python3.10/site-packages/torch/functional.py:504: UserWarning: torch.meshgrid: in an upcoming release, it will be required to pass the indexing argument. (Triggered internally at ../aten/src/ATen/native/TensorShape.cpp:3483.)\n",
      "  return _VF.meshgrid(tensors, **kwargs)  # type: ignore[attr-defined]\n",
      "[exp_runner_generic_blender_val.py:160 -             __init__() ] Find checkpoint: ckpt_190000.pth\n",
      "[exp_runner_generic_blender_val.py:501 -      load_checkpoint() ] End\n",
      "ic| self.iter_step: 190000, idx: -1\n",
      "[exp_runner_generic_blender_val.py:580 -          export_mesh() ] Validate begin\n"
     ]
    },
    {
     "name": "stdout",
     "output_type": "stream",
     "text": [
      "time for getting data 0.00045418739318847656\n",
      "export mesh time:  5.2634806632995605\n"
     ]
    },
    {
     "name": "stderr",
     "output_type": "stream",
     "text": [
      " 80%|████████  | 16/20 [02:36<00:39,  9.82s/it]"
     ]
    },
    {
     "name": "stdout",
     "output_type": "stream",
     "text": [
      "CUDA_VISIBLE_DEVICES=3 python exp_runner_generic_blender_val.py --specific_dataset_name mesh_pred/eval_real/clock2 --mode export_mesh --conf confs/one2345_lod0_val_demo.conf  --is_continue\n",
      "\u001b[31mdetected 1 GPUs\u001b[0m\n",
      "\u001b[33mbase_exp_dir:  exp/lod0\u001b[0m\n",
      "save mesh to: ../mesh_pred/eval_real/clock2\n",
      "\u001b[34mStore in: ../mesh_pred/eval_real/clock2\u001b[0m\n"
     ]
    },
    {
     "name": "stderr",
     "output_type": "stream",
     "text": [
      "/home/chao/anaconda3/envs/gradio/lib/python3.10/site-packages/torch/functional.py:504: UserWarning: torch.meshgrid: in an upcoming release, it will be required to pass the indexing argument. (Triggered internally at ../aten/src/ATen/native/TensorShape.cpp:3483.)\n",
      "  return _VF.meshgrid(tensors, **kwargs)  # type: ignore[attr-defined]\n",
      "[exp_runner_generic_blender_val.py:160 -             __init__() ] Find checkpoint: ckpt_190000.pth\n",
      "[exp_runner_generic_blender_val.py:501 -      load_checkpoint() ] End\n",
      "ic| self.iter_step: 190000, idx: -1\n",
      "[exp_runner_generic_blender_val.py:580 -          export_mesh() ] Validate begin\n"
     ]
    },
    {
     "name": "stdout",
     "output_type": "stream",
     "text": [
      "time for getting data 0.00043654441833496094\n",
      "export mesh time:  5.26728630065918\n"
     ]
    },
    {
     "name": "stderr",
     "output_type": "stream",
     "text": [
      " 85%|████████▌ | 17/20 [02:46<00:29,  9.84s/it]"
     ]
    },
    {
     "name": "stdout",
     "output_type": "stream",
     "text": [
      "CUDA_VISIBLE_DEVICES=3 python exp_runner_generic_blender_val.py --specific_dataset_name mesh_pred/eval_real/downy --mode export_mesh --conf confs/one2345_lod0_val_demo.conf  --is_continue\n",
      "\u001b[31mdetected 1 GPUs\u001b[0m\n",
      "\u001b[33mbase_exp_dir:  exp/lod0\u001b[0m\n",
      "save mesh to: ../mesh_pred/eval_real/downy\n",
      "\u001b[34mStore in: ../mesh_pred/eval_real/downy\u001b[0m\n"
     ]
    },
    {
     "name": "stderr",
     "output_type": "stream",
     "text": [
      "/home/chao/anaconda3/envs/gradio/lib/python3.10/site-packages/torch/functional.py:504: UserWarning: torch.meshgrid: in an upcoming release, it will be required to pass the indexing argument. (Triggered internally at ../aten/src/ATen/native/TensorShape.cpp:3483.)\n",
      "  return _VF.meshgrid(tensors, **kwargs)  # type: ignore[attr-defined]\n",
      "[exp_runner_generic_blender_val.py:160 -             __init__() ] Find checkpoint: ckpt_190000.pth\n",
      "[exp_runner_generic_blender_val.py:501 -      load_checkpoint() ] End\n",
      "ic| self.iter_step: 190000, idx: -1\n",
      "[exp_runner_generic_blender_val.py:580 -          export_mesh() ] Validate begin\n"
     ]
    },
    {
     "name": "stdout",
     "output_type": "stream",
     "text": [
      "time for getting data 0.0004367828369140625\n",
      "export mesh time:  5.207308769226074\n"
     ]
    },
    {
     "name": "stderr",
     "output_type": "stream",
     "text": [
      " 90%|█████████ | 18/20 [02:56<00:19,  9.82s/it]"
     ]
    },
    {
     "name": "stdout",
     "output_type": "stream",
     "text": [
      "CUDA_VISIBLE_DEVICES=3 python exp_runner_generic_blender_val.py --specific_dataset_name mesh_pred/eval_real/ebicycle2 --mode export_mesh --conf confs/one2345_lod0_val_demo.conf  --is_continue\n",
      "\u001b[31mdetected 1 GPUs\u001b[0m\n",
      "\u001b[33mbase_exp_dir:  exp/lod0\u001b[0m\n",
      "save mesh to: ../mesh_pred/eval_real/ebicycle2\n",
      "\u001b[34mStore in: ../mesh_pred/eval_real/ebicycle2\u001b[0m\n"
     ]
    },
    {
     "name": "stderr",
     "output_type": "stream",
     "text": [
      "/home/chao/anaconda3/envs/gradio/lib/python3.10/site-packages/torch/functional.py:504: UserWarning: torch.meshgrid: in an upcoming release, it will be required to pass the indexing argument. (Triggered internally at ../aten/src/ATen/native/TensorShape.cpp:3483.)\n",
      "  return _VF.meshgrid(tensors, **kwargs)  # type: ignore[attr-defined]\n",
      "[exp_runner_generic_blender_val.py:160 -             __init__() ] Find checkpoint: ckpt_190000.pth\n",
      "[exp_runner_generic_blender_val.py:501 -      load_checkpoint() ] End\n",
      "ic| self.iter_step: 190000, idx: -1\n",
      "[exp_runner_generic_blender_val.py:580 -          export_mesh() ] Validate begin\n"
     ]
    },
    {
     "name": "stdout",
     "output_type": "stream",
     "text": [
      "time for getting data 0.00042724609375\n",
      "export mesh time:  5.277446985244751\n"
     ]
    },
    {
     "name": "stderr",
     "output_type": "stream",
     "text": [
      " 95%|█████████▌| 19/20 [03:06<00:09,  9.84s/it]"
     ]
    },
    {
     "name": "stdout",
     "output_type": "stream",
     "text": [
      "CUDA_VISIBLE_DEVICES=3 python exp_runner_generic_blender_val.py --specific_dataset_name mesh_pred/eval_real/strawberrycake --mode export_mesh --conf confs/one2345_lod0_val_demo.conf  --is_continue\n",
      "\u001b[31mdetected 1 GPUs\u001b[0m\n",
      "\u001b[33mbase_exp_dir:  exp/lod0\u001b[0m\n",
      "save mesh to: ../mesh_pred/eval_real/strawberrycake\n",
      "\u001b[34mStore in: ../mesh_pred/eval_real/strawberrycake\u001b[0m\n"
     ]
    },
    {
     "name": "stderr",
     "output_type": "stream",
     "text": [
      "/home/chao/anaconda3/envs/gradio/lib/python3.10/site-packages/torch/functional.py:504: UserWarning: torch.meshgrid: in an upcoming release, it will be required to pass the indexing argument. (Triggered internally at ../aten/src/ATen/native/TensorShape.cpp:3483.)\n",
      "  return _VF.meshgrid(tensors, **kwargs)  # type: ignore[attr-defined]\n",
      "[exp_runner_generic_blender_val.py:160 -             __init__() ] Find checkpoint: ckpt_190000.pth\n",
      "[exp_runner_generic_blender_val.py:501 -      load_checkpoint() ] End\n",
      "ic| self.iter_step: 190000, idx: -1\n",
      "[exp_runner_generic_blender_val.py:580 -          export_mesh() ] Validate begin\n"
     ]
    },
    {
     "name": "stdout",
     "output_type": "stream",
     "text": [
      "time for getting data 0.0004417896270751953\n",
      "export mesh time:  5.276712417602539\n"
     ]
    },
    {
     "name": "stderr",
     "output_type": "stream",
     "text": [
      "100%|██████████| 20/20 [03:16<00:00,  9.81s/it]\n"
     ]
    }
   ],
   "source": [
    "import os \n",
    "from tqdm import tqdm\n",
    "base_dir = \"mesh_pred/eval_real\"\n",
    "for nickname in tqdm(os.listdir(\"../\"+base_dir)):\n",
    "    dataset = os.path.join(base_dir, nickname)\n",
    "    bash_script = f'CUDA_VISIBLE_DEVICES=3 python exp_runner_generic_blender_val.py --specific_dataset_name {dataset} --mode export_mesh --conf confs/one2345_lod0_val_demo.conf  --is_continue'\n",
    "    print(bash_script)\n",
    "    os.system(bash_script)"
   ]
  },
  {
   "cell_type": "code",
   "execution_count": 10,
   "metadata": {},
   "outputs": [
    {
     "name": "stderr",
     "output_type": "stream",
     "text": [
      "100%|██████████| 20/20 [00:00<00:00, 1310.90it/s]\n"
     ]
    }
   ],
   "source": [
    "import os \n",
    "from tqdm import tqdm\n",
    "from shutil import copyfile\n",
    "base_dir = \"mesh_pred/eval_real\"\n",
    "out_dir = f\"../{base_dir}_mesh\"\n",
    "os.makedirs(out_dir, exist_ok=True)\n",
    "for nickname in tqdm(os.listdir(\"../\"+base_dir)):\n",
    "    mesh_path = os.path.join(\"../\", base_dir, nickname, \"meshes_val_bg/lod0/mesh_00190000_gradio_lod0.ply\")\n",
    "    target_path = os.path.join(out_dir, nickname+\".ply\")\n",
    "    copyfile(mesh_path, target_path)"
   ]
  }
 ],
 "metadata": {
  "kernelspec": {
   "display_name": "base",
   "language": "python",
   "name": "python3"
  },
  "language_info": {
   "codemirror_mode": {
    "name": "ipython",
    "version": 3
   },
   "file_extension": ".py",
   "mimetype": "text/x-python",
   "name": "python",
   "nbconvert_exporter": "python",
   "pygments_lexer": "ipython3",
   "version": "3.10.11"
  },
  "orig_nbformat": 4
 },
 "nbformat": 4,
 "nbformat_minor": 2
}
